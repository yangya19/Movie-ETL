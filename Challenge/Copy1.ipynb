{
 "cells": [
  {
   "cell_type": "code",
   "execution_count": 2,
   "metadata": {},
   "outputs": [],
   "source": [
    "import json\n",
    "import pandas as pd\n",
    "import numpy as np\n",
    "\n",
    "import re\n",
    "\n",
    "from sqlalchemy import create_engine\n",
    "import psycopg2\n",
    "\n",
    "from config import db_password\n",
    "\n",
    "import time\n",
    "\n",
    "# 1. Create a function that takes in three arguments;\n",
    "# Wikipedia data, Kaggle metadata, and MovieLens rating data (from Kaggle)\n",
    "\n",
    "\n",
    "with open ('/Users/yanyi.y/Desktop/Bootcamp/Homework/Movie-ETL/wikipedia-movies.json', mode = 'r') as file:\n",
    "    wiki_movies_raw = json.load(file)\n",
    "    \n",
    "wiki_movies_df = pd.DataFrame(wiki_movies_raw)"
   ]
  },
  {
   "cell_type": "code",
   "execution_count": 34,
   "metadata": {},
   "outputs": [
    {
     "data": {
      "text/plain": [
       "193"
      ]
     },
     "execution_count": 34,
     "metadata": {},
     "output_type": "execute_result"
    }
   ],
   "source": [
    "len(wiki_movies_df.columns.tolist())"
   ]
  },
  {
   "cell_type": "code",
   "execution_count": 25,
   "metadata": {},
   "outputs": [
    {
     "name": "stdout",
     "output_type": "stream",
     "text": [
      "url\n",
      "year\n",
      "imdb_link\n",
      "title\n",
      "Directed by\n",
      "Produced by\n",
      "Screenplay by\n",
      "Story by\n",
      "Based on\n",
      "Starring\n",
      "Narrated by\n",
      "Music by\n",
      "Cinematography\n",
      "Edited by\n",
      "Productioncompany \n",
      "Distributed by\n",
      "Release date\n",
      "Running time\n",
      "Country\n",
      "Language\n",
      "Budget\n",
      "Box office\n",
      "Written by\n",
      "Genre\n",
      "Theme music composer\n",
      "Country of origin\n",
      "Original language(s)\n",
      "Producer(s)\n",
      "Editor(s)\n",
      "Production company(s)\n",
      "Original network\n",
      "Original release\n",
      "Productioncompanies \n",
      "Executive producer(s)\n",
      "Production location(s)\n",
      "Distributor\n",
      "Picture format\n",
      "Audio format\n",
      "Voices of\n",
      "Followed by\n",
      "Composer(s)\n",
      "Created by\n",
      "Also known as\n",
      "Opening theme\n",
      "No. of episodes\n",
      "Preceded by\n",
      "Author\n",
      "Publisher\n",
      "Publication date\n",
      "Media type\n",
      "Pages\n",
      "ISBN\n",
      "OCLC\n",
      "LC Class\n",
      "Cover artist\n",
      "Series\n",
      "Set in\n",
      "Adaptation by\n",
      "Suggested by\n",
      "Biographical data\n",
      "Born\n",
      "Died\n",
      "Resting place\n",
      "Occupation\n",
      "Years active\n",
      "Spouse(s)\n",
      "Children\n",
      "Parent(s)\n",
      "Genres\n",
      "Instruments\n",
      "Labels\n",
      "Website\n",
      "Traditional\n",
      "Mandarin\n",
      "Type\n",
      "Industry\n",
      "Fate\n",
      "Founded\n",
      "Founder\n",
      "Headquarters\n",
      "Parent\n",
      "Released\n",
      "Recorded\n",
      "Venue\n",
      "Length\n",
      "Label\n",
      "Director\n",
      "Producer\n",
      "Area\n",
      "Coordinates\n",
      "Status\n",
      "Opening date\n",
      "Closing date\n",
      "Replaced\n",
      "Replaced by\n",
      "Name\n",
      "Attraction type\n",
      "Music\n",
      "Duration\n",
      "Simplified Chinese\n",
      "Traditional Chinese\n",
      "Hanyu Pinyin\n",
      "Literal meaning\n",
      "Transcriptions\n",
      "Bopomofo\n",
      "Gwoyeu Romatzyh\n",
      "Wade–Giles\n",
      "IPA\n",
      "Yale Romanization\n",
      "Jyutping\n",
      "Hokkien POJ\n",
      "Animation by\n",
      "Color process\n",
      "Engine(s)\n",
      "Genre(s)\n",
      "Actor control\n",
      "Production company\n",
      "Release(s)\n",
      "Format(s)\n",
      "Simplified\n",
      "Characters\n",
      "Date premiered\n",
      "Place premiered\n",
      "Setting\n",
      "Original language\n",
      "Subject\n",
      "Published\n",
      "Dewey Decimal\n",
      "Text\n",
      "Illustrator\n",
      "Original title\n",
      "Published in English\n",
      "French\n",
      "Developed by\n",
      "Ending theme\n",
      "No. of seasons\n",
      "Nationality\n",
      "Portrayed by\n",
      "Alias\n",
      "Species\n",
      "Gender\n",
      "Family\n",
      "Alma mater\n",
      "Camera setup\n",
      "Novel(s)\n",
      "Comics\n",
      "Film(s)\n",
      "Screen story by\n",
      "Hangul\n",
      "Revised Romanization\n",
      "McCune–Reischauer\n",
      "Developer(s)\n",
      "Publisher(s)\n",
      "Designer(s)\n",
      "Programmer(s)\n",
      "Artist(s)\n",
      "Writer(s)\n",
      "Engine\n",
      "Platform(s)\n",
      "Release\n",
      "Mode(s)\n",
      "Original work\n",
      "Television series\n",
      "Japanese\n",
      "Hepburn\n",
      "Literally\n",
      "Cantonese\n",
      "Full name\n",
      "Height\n",
      "Seasons\n",
      "Chinese\n",
      "Other names\n",
      "Relatives\n",
      "Yiddish\n",
      "Formerly\n",
      "Key people\n",
      "Total assets\n",
      "Owner\n",
      "Number of employees\n",
      "Divisions\n",
      "Subsidiaries\n",
      "Arabic\n",
      "Romanized\n",
      "Predecessor\n",
      "Founders\n",
      "Area served\n",
      "Products\n",
      "Services\n",
      "Russian\n",
      "Hebrew\n",
      "Revenue\n",
      "Operating income\n",
      "Polish\n"
     ]
    }
   ],
   "source": [
    "for columns in wiki_movies_df:\n",
    "    if wiki_movies_df[columns].isnull().sum() != 0:\n",
    "        print(columns)"
   ]
  },
  {
   "cell_type": "code",
   "execution_count": 58,
   "metadata": {},
   "outputs": [
    {
     "data": {
      "text/plain": [
       "193"
      ]
     },
     "execution_count": 58,
     "metadata": {},
     "output_type": "execute_result"
    }
   ],
   "source": [
    "not_null = [columns for columns in wiki_movies_df\n",
    "                      if wiki_movies_df[columns].notnull().sum != 0]\n",
    "\n",
    "len(not_null)\n"
   ]
  },
  {
   "cell_type": "code",
   "execution_count": 57,
   "metadata": {},
   "outputs": [
    {
     "data": {
      "text/plain": [
       "193"
      ]
     },
     "execution_count": 57,
     "metadata": {},
     "output_type": "execute_result"
    }
   ],
   "source": [
    "wiki_columns_to_keep = [column for column in wiki_movies_df.columns if wiki_movies_df[column].notnull().sum() != 0]\n",
    "\n",
    "len(wiki_columns_to_keep)"
   ]
  },
  {
   "cell_type": "code",
   "execution_count": 41,
   "metadata": {},
   "outputs": [
    {
     "data": {
      "text/plain": [
       "193"
      ]
     },
     "execution_count": 41,
     "metadata": {},
     "output_type": "execute_result"
    }
   ],
   "source": [
    "len(wiki_movies_df.columns.tolist())"
   ]
  },
  {
   "cell_type": "code",
   "execution_count": 59,
   "metadata": {},
   "outputs": [
    {
     "data": {
      "text/plain": [
       "0          $21.4 million\n",
       "1           $2.7 million\n",
       "2            $57,718,089\n",
       "3             $7,331,647\n",
       "4       $6,939,946 (USA)\n",
       "              ...       \n",
       "7306       $41.9 million\n",
       "7307       $76.1 million\n",
       "7308       $38.4 million\n",
       "7309        $5.5 million\n",
       "7310                 NaN\n",
       "Name: Box office, Length: 7311, dtype: object"
      ]
     },
     "execution_count": 59,
     "metadata": {},
     "output_type": "execute_result"
    }
   ],
   "source": [
    "wiki_movies_df['Box office']"
   ]
  },
  {
   "cell_type": "code",
   "execution_count": null,
   "metadata": {},
   "outputs": [],
   "source": []
  }
 ],
 "metadata": {
  "kernelspec": {
   "display_name": "PythonData",
   "language": "python",
   "name": "pythondata"
  },
  "language_info": {
   "codemirror_mode": {
    "name": "ipython",
    "version": 3
   },
   "file_extension": ".py",
   "mimetype": "text/x-python",
   "name": "python",
   "nbconvert_exporter": "python",
   "pygments_lexer": "ipython3",
   "version": "3.9.7"
  }
 },
 "nbformat": 4,
 "nbformat_minor": 2
}
